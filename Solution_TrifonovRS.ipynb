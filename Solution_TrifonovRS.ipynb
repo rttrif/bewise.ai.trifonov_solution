{
 "cells": [
  {
   "cell_type": "markdown",
   "metadata": {
    "pycharm": {
     "name": "#%% md\n"
    }
   },
   "source": [
    "# Решение тестового задания на позицию Junior Data Scientist (NLP)\n",
    "## Трифонов Р.С.\n",
    "\n",
    "[Вакансия](https://chita.hh.ru/vacancy/68620322?from=negotiations_item&hhtmFrom=negotiations_item)"
   ]
  },
  {
   "cell_type": "markdown",
   "metadata": {
    "pycharm": {
     "name": "#%% md\n"
    }
   },
   "source": [
    "##  Анализ задачи\n",
    "\n",
    "### Бизнес задача\n",
    "Необходимо контролировать менеджеров на соответствие требованиям скрипта продаж - т.е. необходимо проверять, чтобы выполнялось следующее условие: «В каждом диалоге обязательно необходимо поздороваться и попрощаться с клиентом»\n",
    "\n",
    "### ML задача\n",
    "- Необходимо решить задачу бинарной классификации: метка 1 - менеджер выполнил требование, метка 0 - менеджер не выполнил требование.\n",
    "- Извлекать реплики с приветствием – где менеджер поздоровался.\n",
    "- Извлекать реплики, где менеджер представил себя.\n",
    "- Извлекать имя менеджера.\n",
    "- Извлекать название компании.\n",
    "- Извлекать реплики, где менеджер попрощался.\n",
    "- Проверять требование к менеджеру: «В каждом диалоге обязательно необходимо поздороваться и попрощаться с клиентом»\n",
    "\n",
    "### Аналитическая задача\n",
    "- Оперативный контроль менеджеров на соответствие требованиям скрипта продаж, через дашборд\n"
   ]
  },
  {
   "cell_type": "code",
   "execution_count": 1,
   "metadata": {
    "collapsed": false,
    "jupyter": {
     "outputs_hidden": false
    },
    "pycharm": {
     "name": "#%%\n"
    }
   },
   "outputs": [],
   "source": [
    "import pandas as pd\n",
    "import numpy as np\n",
    "import matplotlib.pyplot as plt\n",
    "plt.style.use('bmh')\n",
    "import seaborn as sns\n",
    "sns.set_style('whitegrid')\n",
    "sns.set_palette('dark')\n",
    "\n",
    "import spacy\n",
    "\n",
    "from jupyter_dash import JupyterDash\n",
    "import dash\n",
    "from dash import dcc\n",
    "from dash import html\n",
    "import pandas as pd\n",
    "from dash import callback, Input, Output, State\n",
    "from dash import dash_table"
   ]
  },
  {
   "cell_type": "code",
   "execution_count": 2,
   "metadata": {
    "collapsed": false,
    "jupyter": {
     "outputs_hidden": false
    },
    "pycharm": {
     "name": "#%%\n"
    }
   },
   "outputs": [
    {
     "data": {
      "text/html": [
       "<div>\n",
       "<style scoped>\n",
       "    .dataframe tbody tr th:only-of-type {\n",
       "        vertical-align: middle;\n",
       "    }\n",
       "\n",
       "    .dataframe tbody tr th {\n",
       "        vertical-align: top;\n",
       "    }\n",
       "\n",
       "    .dataframe thead th {\n",
       "        text-align: right;\n",
       "    }\n",
       "</style>\n",
       "<table border=\"1\" class=\"dataframe\">\n",
       "  <thead>\n",
       "    <tr style=\"text-align: right;\">\n",
       "      <th></th>\n",
       "      <th>dlg_id</th>\n",
       "      <th>line_n</th>\n",
       "      <th>role</th>\n",
       "      <th>text</th>\n",
       "    </tr>\n",
       "  </thead>\n",
       "  <tbody>\n",
       "    <tr>\n",
       "      <th>475</th>\n",
       "      <td>5</td>\n",
       "      <td>138</td>\n",
       "      <td>manager</td>\n",
       "      <td>По поводу виджетов и с ними уже обсудите конкр...</td>\n",
       "    </tr>\n",
       "    <tr>\n",
       "      <th>476</th>\n",
       "      <td>5</td>\n",
       "      <td>139</td>\n",
       "      <td>manager</td>\n",
       "      <td>Все я вам высылаю счет и с вами на связи если ...</td>\n",
       "    </tr>\n",
       "    <tr>\n",
       "      <th>477</th>\n",
       "      <td>5</td>\n",
       "      <td>140</td>\n",
       "      <td>client</td>\n",
       "      <td>Спасибо спасибо</td>\n",
       "    </tr>\n",
       "    <tr>\n",
       "      <th>478</th>\n",
       "      <td>5</td>\n",
       "      <td>141</td>\n",
       "      <td>client</td>\n",
       "      <td>Да да тогда созвонимся ага спасибо вам давайте</td>\n",
       "    </tr>\n",
       "    <tr>\n",
       "      <th>479</th>\n",
       "      <td>5</td>\n",
       "      <td>142</td>\n",
       "      <td>manager</td>\n",
       "      <td>Ну до свидания хорошего вечера</td>\n",
       "    </tr>\n",
       "  </tbody>\n",
       "</table>\n",
       "</div>"
      ],
      "text/plain": [
       "     dlg_id  line_n     role  \\\n",
       "475       5     138  manager   \n",
       "476       5     139  manager   \n",
       "477       5     140   client   \n",
       "478       5     141   client   \n",
       "479       5     142  manager   \n",
       "\n",
       "                                                  text  \n",
       "475  По поводу виджетов и с ними уже обсудите конкр...  \n",
       "476  Все я вам высылаю счет и с вами на связи если ...  \n",
       "477                                    Спасибо спасибо  \n",
       "478     Да да тогда созвонимся ага спасибо вам давайте  \n",
       "479                     Ну до свидания хорошего вечера  "
      ]
     },
     "execution_count": 2,
     "metadata": {},
     "output_type": "execute_result"
    }
   ],
   "source": [
    "data_path = 'test_data.csv'\n",
    "data = pd.read_csv(data_path)\n",
    "data.tail()"
   ]
  },
  {
   "cell_type": "markdown",
   "metadata": {
    "pycharm": {
     "name": "#%% md\n"
    }
   },
   "source": [
    "## EXPLORATORY DATA ANALYSIS"
   ]
  },
  {
   "cell_type": "code",
   "execution_count": 3,
   "metadata": {
    "collapsed": false,
    "jupyter": {
     "outputs_hidden": false
    },
    "pycharm": {
     "name": "#%%\n"
    }
   },
   "outputs": [
    {
     "name": "stdout",
     "output_type": "stream",
     "text": [
      "<class 'pandas.core.frame.DataFrame'>\n",
      "RangeIndex: 480 entries, 0 to 479\n",
      "Data columns (total 4 columns):\n",
      " #   Column  Non-Null Count  Dtype \n",
      "---  ------  --------------  ----- \n",
      " 0   dlg_id  480 non-null    int64 \n",
      " 1   line_n  480 non-null    int64 \n",
      " 2   role    480 non-null    object\n",
      " 3   text    480 non-null    object\n",
      "dtypes: int64(2), object(2)\n",
      "memory usage: 15.1+ KB\n"
     ]
    }
   ],
   "source": [
    "data.info()"
   ]
  },
  {
   "cell_type": "code",
   "execution_count": 4,
   "metadata": {
    "collapsed": false,
    "jupyter": {
     "outputs_hidden": false
    },
    "pycharm": {
     "name": "#%%\n"
    }
   },
   "outputs": [
    {
     "data": {
      "image/png": "[encoded data removed]",
      "text/plain": [
       "<Figure size 1152x360 with 1 Axes>"
      ]
     },
     "metadata": {
      "needs_background": "light"
     },
     "output_type": "display_data"
    }
   ],
   "source": [
    "plt.figure(figsize=(16,5))\n",
    "sns.countplot(x='role', data= data, order = data['role'].value_counts().index)\n",
    "plt.title('Распределение ролей в наборе')\n",
    "plt.show()"
   ]
  },
  {
   "cell_type": "code",
   "execution_count": 5,
   "metadata": {
    "collapsed": false,
    "jupyter": {
     "outputs_hidden": false
    },
    "pycharm": {
     "name": "#%%\n"
    }
   },
   "outputs": [],
   "source": [
    "# Определим длинну ответов менеджеров\n",
    "data['len_response'] = data.loc[data['role'] == 'manager']['text'].str.len()"
   ]
  },
  {
   "cell_type": "code",
   "execution_count": 6,
   "metadata": {
    "collapsed": false,
    "jupyter": {
     "outputs_hidden": false
    },
    "pycharm": {
     "name": "#%%\n"
    }
   },
   "outputs": [
    {
     "data": {
      "image/png": "[encoded data removed]",
      "text/plain": [
       "<Figure size 1152x360 with 1 Axes>"
      ]
     },
     "metadata": {
      "needs_background": "light"
     },
     "output_type": "display_data"
    }
   ],
   "source": [
    "plt.figure(figsize=(16,5))\n",
    "sns.countplot(x='len_response', data= data, order = data['len_response'].value_counts().index)\n",
    "plt.xticks(rotation=90)\n",
    "plt.title('Длина ответов менеджеров')\n",
    "plt.show()"
   ]
  },
  {
   "cell_type": "code",
   "execution_count": 7,
   "metadata": {
    "collapsed": false,
    "jupyter": {
     "outputs_hidden": false
    },
    "pycharm": {
     "name": "#%%\n"
    }
   },
   "outputs": [
    {
     "data": {
      "image/png": "[encoded data removed]",
      "text/plain": [
       "<Figure size 1152x432 with 1 Axes>"
      ]
     },
     "metadata": {
      "needs_background": "light"
     },
     "output_type": "display_data"
    }
   ],
   "source": [
    "plt.figure(figsize=(16,6))\n",
    "sns.countplot(x='len_response', data= data)\n",
    "plt.xticks(rotation=90)\n",
    "plt.title('Длина ответов менеджеров')\n",
    "plt.show()"
   ]
  },
  {
   "cell_type": "code",
   "execution_count": 8,
   "metadata": {
    "collapsed": false,
    "jupyter": {
     "outputs_hidden": false
    },
    "pycharm": {
     "name": "#%%\n"
    }
   },
   "outputs": [
    {
     "data": {
      "image/png": "[encoded data removed]",
      "text/plain": [
       "<Figure size 720x432 with 1 Axes>"
      ]
     },
     "metadata": {
      "needs_background": "light"
     },
     "output_type": "display_data"
    }
   ],
   "source": [
    "plt.figure(figsize=(10,6))\n",
    "sns.histplot(data=data['len_response'], bins=35)\n",
    "plt.title('Распределение длин ответов менеджеров',fontweight=\"bold\")\n",
    "plt.show()"
   ]
  },
  {
   "cell_type": "markdown",
   "metadata": {
    "pycharm": {
     "name": "#%% md\n"
    }
   },
   "source": [
    "##  DATA PREPARATION"
   ]
  },
  {
   "cell_type": "markdown",
   "metadata": {
    "pycharm": {
     "name": "#%% md\n"
    }
   },
   "source": [
    "- Во время разговора с клиентом ожидается, что менеджер приветствует клиента в начале диалога и прощается в конце т.е. длинна реплик, где это происходит не должна превышать 3.\n",
    "- Самопредставление включает в себя леммы: 'меня', 'звать'\n",
    "- Приветствие включает леммы: 'здравствовать', 'привет', 'добрый', 'день', 'утро', 'вечер'\n",
    "- Прощание включает леммы: 'до', 'всего', 'весь', 'свидание', 'хороший', 'добрый'\n",
    "- Название фирмы включает леммы: 'компан', 'фирм'"
   ]
  },
  {
   "cell_type": "code",
   "execution_count": 9,
   "metadata": {
    "collapsed": false,
    "jupyter": {
     "outputs_hidden": false
    },
    "pycharm": {
     "name": "#%%\n"
    }
   },
   "outputs": [],
   "source": [
    "def skipping_middle_replica(x):\n",
    "    agg_val = x.tolist()\n",
    "    return agg_val[:3] + agg_val[-3:]\n",
    "\n",
    "def entity_allocation_rules(name_model):\n",
    "    nlp = spacy.load(name_model)\n",
    "    ruler = nlp.add_pipe('entity_ruler', config={\"overwrite_ents\": True})\n",
    "    patterns = [\n",
    "        {\"label\": \"name\", \"pattern\": [\n",
    "            {'LEMMA': 'меня', \"OP\": \"+\"},\n",
    "            {'LEMMA': 'звать', \"OP\": \"?\"},\n",
    "            {'ENT_TYPE': 'PER', \"OP\": \"+\"}]},\n",
    "        {'label': 'organisation', 'pattern': [\n",
    "            {\"LOWER\": {\"REGEX\": r\"(компан|фирм)\"}, \"OP\": \"+\"},\n",
    "            {\"LOWER\": {\"REGEX\": r\"\\w+\"}}]},\n",
    "        {'label': 'greetings', 'pattern': [\n",
    "            {\"LEMMA\": {\"IN\": ['здравствовать', 'привет', 'добрый']}, \"OP\": \"+\"},\n",
    "            {\"LOWER\": {\"REGEX\": r\"(день|утро|вечер)\", \"OP\": \"?\"}}]},\n",
    "        {'label': 'goodbyes', 'pattern': [\n",
    "            {\"LEMMA\": {\"IN\": ['до', 'всего', 'весь'], \"OP\": \"+\"}},\n",
    "            {\"LEMMA\": {\"IN\": ['свидание', 'хороший', 'добрый'], \"OP\": \"+\"}}]}\n",
    "    ]\n",
    "    ruler.add_patterns(patterns)\n",
    "    return nlp\n",
    "\n",
    "def parse_entity(data, model_name):\n",
    "    data['index_text'] = [str(k) + '_' + v for k, v in zip(range(len(data.text.values)), data.text.values)]\n",
    "\n",
    "    new_col = ['name', 'organisation', 'greetings', 'goodbyes', 'fulfilling_requirement']\n",
    "\n",
    "    list_text = data[data.role == 'manager'].groupby(['dlg_id'])['index_text'].apply(skipping_middle_replica)\n",
    "\n",
    "    model = entity_allocation_rules(model_name)\n",
    "\n",
    "    data[new_col] = [False] * len(new_col)\n",
    "\n",
    "    tmp = []\n",
    "    for i in range(len(list_text)):\n",
    "        six_task = set()\n",
    "        for doc in model.pipe(list_text[i]):\n",
    "            idx, text = doc.text.split('_')\n",
    "            idx = int(idx)\n",
    "            doc = model(text)\n",
    "            for ent in doc.ents:\n",
    "                tmp.append(idx)\n",
    "                if ent.label_ == 'name':\n",
    "                    data.loc[idx, new_col[0]] = ent.text.split()[-1]\n",
    "                if ent.label_ == 'organisation':\n",
    "                    data.loc[idx, new_col[1]] = ent.text\n",
    "                if ent.label_ == 'greetings':\n",
    "                    data.loc[idx, new_col[2]] = ent.text\n",
    "                    six_task.add(1)\n",
    "                if ent.label_ == 'goodbyes':\n",
    "                    data.loc[idx, new_col[3]] = ent.text\n",
    "                    six_task.add(2)\n",
    "        if sum(six_task) == 3:\n",
    "            data.loc[idx, new_col[4]] = True\n",
    "\n",
    "    return data.drop('index_text', axis = 1), tmp"
   ]
  },
  {
   "cell_type": "markdown",
   "metadata": {
    "pycharm": {
     "name": "#%% md\n"
    }
   },
   "source": [
    "##  MODELING"
   ]
  },
  {
   "cell_type": "code",
   "execution_count": 10,
   "metadata": {
    "collapsed": false,
    "jupyter": {
     "outputs_hidden": false
    },
    "pycharm": {
     "name": "#%%\n"
    }
   },
   "outputs": [],
   "source": [
    "df, tmp = parse_entity(data, 'ru_core_news_lg')"
   ]
  },
  {
   "cell_type": "code",
   "execution_count": 11,
   "metadata": {
    "collapsed": false,
    "jupyter": {
     "outputs_hidden": false
    },
    "pycharm": {
     "name": "#%%\n"
    }
   },
   "outputs": [
    {
     "data": {
      "text/html": [
       "<div>\n",
       "<style scoped>\n",
       "    .dataframe tbody tr th:only-of-type {\n",
       "        vertical-align: middle;\n",
       "    }\n",
       "\n",
       "    .dataframe tbody tr th {\n",
       "        vertical-align: top;\n",
       "    }\n",
       "\n",
       "    .dataframe thead th {\n",
       "        text-align: right;\n",
       "    }\n",
       "</style>\n",
       "<table border=\"1\" class=\"dataframe\">\n",
       "  <thead>\n",
       "    <tr style=\"text-align: right;\">\n",
       "      <th></th>\n",
       "      <th>dlg_id</th>\n",
       "      <th>line_n</th>\n",
       "      <th>role</th>\n",
       "      <th>text</th>\n",
       "      <th>len_response</th>\n",
       "      <th>name</th>\n",
       "      <th>organisation</th>\n",
       "      <th>greetings</th>\n",
       "      <th>goodbyes</th>\n",
       "      <th>fulfilling_requirement</th>\n",
       "    </tr>\n",
       "  </thead>\n",
       "  <tbody>\n",
       "    <tr>\n",
       "      <th>3</th>\n",
       "      <td>0</td>\n",
       "      <td>3</td>\n",
       "      <td>manager</td>\n",
       "      <td>Меня зовут ангелина компания диджитал бизнес з...</td>\n",
       "      <td>128.0</td>\n",
       "      <td>ангелина</td>\n",
       "      <td>компания диджитал</td>\n",
       "      <td>False</td>\n",
       "      <td>False</td>\n",
       "      <td>False</td>\n",
       "    </tr>\n",
       "    <tr>\n",
       "      <th>108</th>\n",
       "      <td>0</td>\n",
       "      <td>108</td>\n",
       "      <td>manager</td>\n",
       "      <td>Всего хорошего до свидания</td>\n",
       "      <td>26.0</td>\n",
       "      <td>False</td>\n",
       "      <td>False</td>\n",
       "      <td>False</td>\n",
       "      <td>до свидания</td>\n",
       "      <td>False</td>\n",
       "    </tr>\n",
       "    <tr>\n",
       "      <th>111</th>\n",
       "      <td>1</td>\n",
       "      <td>2</td>\n",
       "      <td>manager</td>\n",
       "      <td>Меня зовут ангелина компания диджитал бизнес з...</td>\n",
       "      <td>131.0</td>\n",
       "      <td>ангелина</td>\n",
       "      <td>компания диджитал</td>\n",
       "      <td>False</td>\n",
       "      <td>False</td>\n",
       "      <td>False</td>\n",
       "    </tr>\n",
       "    <tr>\n",
       "      <th>162</th>\n",
       "      <td>1</td>\n",
       "      <td>53</td>\n",
       "      <td>manager</td>\n",
       "      <td>Угу да вижу я эту почту хорошо тогда исправлю ...</td>\n",
       "      <td>86.0</td>\n",
       "      <td>False</td>\n",
       "      <td>False</td>\n",
       "      <td>False</td>\n",
       "      <td>всего хорошего</td>\n",
       "      <td>False</td>\n",
       "    </tr>\n",
       "    <tr>\n",
       "      <th>163</th>\n",
       "      <td>1</td>\n",
       "      <td>54</td>\n",
       "      <td>manager</td>\n",
       "      <td>До свидания</td>\n",
       "      <td>11.0</td>\n",
       "      <td>False</td>\n",
       "      <td>False</td>\n",
       "      <td>False</td>\n",
       "      <td>До свидания</td>\n",
       "      <td>False</td>\n",
       "    </tr>\n",
       "    <tr>\n",
       "      <th>167</th>\n",
       "      <td>2</td>\n",
       "      <td>3</td>\n",
       "      <td>manager</td>\n",
       "      <td>Меня зовут ангелина компания диджитал бизнес з...</td>\n",
       "      <td>129.0</td>\n",
       "      <td>ангелина</td>\n",
       "      <td>компания диджитал</td>\n",
       "      <td>False</td>\n",
       "      <td>False</td>\n",
       "      <td>False</td>\n",
       "    </tr>\n",
       "    <tr>\n",
       "      <th>250</th>\n",
       "      <td>3</td>\n",
       "      <td>1</td>\n",
       "      <td>manager</td>\n",
       "      <td>Алло дмитрий добрый день</td>\n",
       "      <td>24.0</td>\n",
       "      <td>False</td>\n",
       "      <td>False</td>\n",
       "      <td>добрый день</td>\n",
       "      <td>False</td>\n",
       "      <td>False</td>\n",
       "    </tr>\n",
       "    <tr>\n",
       "      <th>251</th>\n",
       "      <td>3</td>\n",
       "      <td>2</td>\n",
       "      <td>manager</td>\n",
       "      <td>Добрый меня максим зовут компания китобизнес у...</td>\n",
       "      <td>60.0</td>\n",
       "      <td>максим</td>\n",
       "      <td>компания китобизнес</td>\n",
       "      <td>False</td>\n",
       "      <td>False</td>\n",
       "      <td>False</td>\n",
       "    </tr>\n",
       "    <tr>\n",
       "      <th>253</th>\n",
       "      <td>3</td>\n",
       "      <td>4</td>\n",
       "      <td>manager</td>\n",
       "      <td>Да дмитрий вот мне моя коллега анастасия подск...</td>\n",
       "      <td>248.0</td>\n",
       "      <td>False</td>\n",
       "      <td>False</td>\n",
       "      <td>False</td>\n",
       "      <td>False</td>\n",
       "      <td>False</td>\n",
       "    </tr>\n",
       "    <tr>\n",
       "      <th>300</th>\n",
       "      <td>3</td>\n",
       "      <td>51</td>\n",
       "      <td>manager</td>\n",
       "      <td>Угу все хорошо да понедельника тогда всего доб...</td>\n",
       "      <td>50.0</td>\n",
       "      <td>False</td>\n",
       "      <td>False</td>\n",
       "      <td>False</td>\n",
       "      <td>всего доброго</td>\n",
       "      <td>True</td>\n",
       "    </tr>\n",
       "    <tr>\n",
       "      <th>335</th>\n",
       "      <td>4</td>\n",
       "      <td>33</td>\n",
       "      <td>manager</td>\n",
       "      <td>Во вторник все ну с вами да тогда до вторника ...</td>\n",
       "      <td>57.0</td>\n",
       "      <td>False</td>\n",
       "      <td>False</td>\n",
       "      <td>False</td>\n",
       "      <td>до свидания</td>\n",
       "      <td>False</td>\n",
       "    </tr>\n",
       "    <tr>\n",
       "      <th>479</th>\n",
       "      <td>5</td>\n",
       "      <td>142</td>\n",
       "      <td>manager</td>\n",
       "      <td>Ну до свидания хорошего вечера</td>\n",
       "      <td>30.0</td>\n",
       "      <td>False</td>\n",
       "      <td>False</td>\n",
       "      <td>False</td>\n",
       "      <td>до свидания</td>\n",
       "      <td>False</td>\n",
       "    </tr>\n",
       "  </tbody>\n",
       "</table>\n",
       "</div>"
      ],
      "text/plain": [
       "     dlg_id  line_n     role  \\\n",
       "3         0       3  manager   \n",
       "108       0     108  manager   \n",
       "111       1       2  manager   \n",
       "162       1      53  manager   \n",
       "163       1      54  manager   \n",
       "167       2       3  manager   \n",
       "250       3       1  manager   \n",
       "251       3       2  manager   \n",
       "253       3       4  manager   \n",
       "300       3      51  manager   \n",
       "335       4      33  manager   \n",
       "479       5     142  manager   \n",
       "\n",
       "                                                  text  len_response  \\\n",
       "3    Меня зовут ангелина компания диджитал бизнес з...         128.0   \n",
       "108                         Всего хорошего до свидания          26.0   \n",
       "111  Меня зовут ангелина компания диджитал бизнес з...         131.0   \n",
       "162  Угу да вижу я эту почту хорошо тогда исправлю ...          86.0   \n",
       "163                                        До свидания          11.0   \n",
       "167  Меня зовут ангелина компания диджитал бизнес з...         129.0   \n",
       "250                           Алло дмитрий добрый день          24.0   \n",
       "251  Добрый меня максим зовут компания китобизнес у...          60.0   \n",
       "253  Да дмитрий вот мне моя коллега анастасия подск...         248.0   \n",
       "300  Угу все хорошо да понедельника тогда всего доб...          50.0   \n",
       "335  Во вторник все ну с вами да тогда до вторника ...          57.0   \n",
       "479                     Ну до свидания хорошего вечера          30.0   \n",
       "\n",
       "         name         organisation    greetings        goodbyes  \\\n",
       "3    ангелина    компания диджитал        False           False   \n",
       "108     False                False        False     до свидания   \n",
       "111  ангелина    компания диджитал        False           False   \n",
       "162     False                False        False  всего хорошего   \n",
       "163     False                False        False     До свидания   \n",
       "167  ангелина    компания диджитал        False           False   \n",
       "250     False                False  добрый день           False   \n",
       "251    максим  компания китобизнес        False           False   \n",
       "253     False                False        False           False   \n",
       "300     False                False        False   всего доброго   \n",
       "335     False                False        False     до свидания   \n",
       "479     False                False        False     до свидания   \n",
       "\n",
       "     fulfilling_requirement  \n",
       "3                     False  \n",
       "108                   False  \n",
       "111                   False  \n",
       "162                   False  \n",
       "163                   False  \n",
       "167                   False  \n",
       "250                   False  \n",
       "251                   False  \n",
       "253                   False  \n",
       "300                    True  \n",
       "335                   False  \n",
       "479                   False  "
      ]
     },
     "execution_count": 11,
     "metadata": {},
     "output_type": "execute_result"
    }
   ],
   "source": [
    "df = df.loc[sorted(set(tmp))]\n",
    "df"
   ]
  },
  {
   "cell_type": "markdown",
   "metadata": {
    "jupyter": {
     "outputs_hidden": false
    },
    "pycharm": {
     "name": "#%%\n"
    }
   },
   "source": [
    "## Dashboard"
   ]
  },
  {
   "cell_type": "code",
   "execution_count": 12,
   "metadata": {},
   "outputs": [],
   "source": [
    "df['name'].replace({False: 'Не указанно'}, inplace=True)"
   ]
  },
  {
   "cell_type": "code",
   "execution_count": 13,
   "metadata": {
    "collapsed": false,
    "jupyter": {
     "outputs_hidden": false
    },
    "pycharm": {
     "name": "#%%\n"
    }
   },
   "outputs": [
    {
     "data": {
      "text/html": [
       "\n",
       "        <iframe\n",
       "            width=\"100%\"\n",
       "            height=\"650\"\n",
       "            src=\"http://127.0.0.1:8050/\"\n",
       "            frameborder=\"0\"\n",
       "            allowfullscreen\n",
       "            \n",
       "        ></iframe>\n",
       "        "
      ],
      "text/plain": [
       "<IPython.lib.display.IFrame at 0x164c40790>"
      ]
     },
     "metadata": {},
     "output_type": "display_data"
    }
   ],
   "source": [
    "external_stylesheets = ['https://codepen.io/chriddyp/pen/bWLwgP.css']\n",
    "\n",
    "app = JupyterDash(__name__, external_stylesheets=external_stylesheets)\n",
    "\n",
    "# Create server variable with Flask server object for use with gunicorn\n",
    "server = app.server\n",
    "\n",
    "app.layout = html.Div([\n",
    "    html.Div([\n",
    "        \n",
    "        html.H4('Выполнение скрипта продаж менеджерами',\n",
    "                        style={'text-align': 'center',\n",
    "                               'margin-top': '10px',\n",
    "                               'margin-left': '10px',\n",
    "                               'margin-right': '10px'}),\n",
    "\n",
    "\n",
    "        \n",
    "        html.Div([\n",
    "        dash_table.DataTable(\n",
    "        data= data.groupby(['name','fulfilling_requirement']).\\\n",
    "                agg(requirement = ('fulfilling_requirement', 'sum')).\\\n",
    "                reset_index().\\\n",
    "                to_dict('records'),\n",
    "            \n",
    "        columns=[\n",
    "            {'name': 'Менеджер', 'id': 'name', 'type': 'text'},\n",
    "            {'name': 'Выполнение скрипта', 'id': 'requirement', 'type': 'numeric'},\n",
    "\n",
    "        ]\n",
    "    )\n",
    "        \n",
    "        \n",
    "        ])\n",
    "        \n",
    "    ])\n",
    "    \n",
    "])\n",
    "\n",
    "app.run_server(mode=\"inline\")"
   ]
  },
  {
   "cell_type": "markdown",
   "metadata": {
    "jupyter": {
     "outputs_hidden": false
    },
    "pycharm": {
     "name": "#%%\n"
    }
   },
   "source": [
    "Дашборд и аналитику в целом можно усложнить и развернуть, как отдельное приложение. Если у нас есть постоянное поступление данных, то можно написать ETL конвейер на Airflow для с использованием данного подхода и мониторить менеджеров на постоянной основе.  "
   ]
  },
  {
   "cell_type": "code",
   "execution_count": null,
   "metadata": {},
   "outputs": [],
   "source": []
  }
 ],
 "metadata": {
  "kernelspec": {
   "display_name": "Python 3.9 (tensorflow_m1)",
   "language": "python",
   "name": "tensorflow_m1"
  },
  "language_info": {
   "codemirror_mode": {
    "name": "ipython",
    "version": 3
   },
   "file_extension": ".py",
   "mimetype": "text/x-python",
   "name": "python",
   "nbconvert_exporter": "python",
   "pygments_lexer": "ipython3",
   "version": "3.9.12"
  }
 },
 "nbformat": 4,
 "nbformat_minor": 4
}
